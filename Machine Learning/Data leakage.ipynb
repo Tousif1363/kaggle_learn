{
  "cells": [
    {
      "metadata": {
        "_cell_guid": "b1076dfc-b9ad-4769-8c92-a6c4dae69d19",
        "_uuid": "8f2839f25d086af736a60e9eeb907d3b93b6e0e5",
        "trusted": true
      },
      "cell_type": "code",
      "source": "# This Python 3 environment comes with many helpful analytics libraries installed\n# It is defined by the kaggle/python docker image: https://github.com/kaggle/docker-python\n# For example, here's several helpful packages to load in \n\nimport numpy as np # linear algebra\nimport pandas as pd # data processing, CSV file I/O (e.g. pd.read_csv)\n\n# Input data files are available in the \"../input/\" directory.\n# For example, running this (by clicking run or pressing Shift+Enter) will list the files in the input directory\n\nimport os\nprint(os.listdir(\"../input\"))\n\n# Any results you write to the current directory are saved as output.",
      "execution_count": 1,
      "outputs": [
        {
          "output_type": "stream",
          "text": "['AER_credit_card_data.csv']\n",
          "name": "stdout"
        }
      ]
    },
    {
      "metadata": {
        "_cell_guid": "79c7e3d0-c299-4dcb-8224-4455121ee9b0",
        "collapsed": true,
        "_uuid": "d629ff2d2480ee46fbb7e2d37f6b5fab8052498a",
        "trusted": true
      },
      "cell_type": "code",
      "source": "data = pd.read_csv(\"../input/AER_credit_card_data.csv\", true_values=['yes'], false_values=['no'])",
      "execution_count": 4,
      "outputs": []
    },
    {
      "metadata": {
        "trusted": true,
        "_uuid": "9a8e929e5b8143a721e09b655ffd81846acb8566"
      },
      "cell_type": "code",
      "source": "data.head()",
      "execution_count": 5,
      "outputs": [
        {
          "output_type": "execute_result",
          "execution_count": 5,
          "data": {
            "text/plain": "   card  reports       age  income     share  expenditure  owner  selfemp  \\\n0  True        0  37.66667  4.5200  0.033270   124.983300   True    False   \n1  True        0  33.25000  2.4200  0.005217     9.854167  False    False   \n2  True        0  33.66667  4.5000  0.004156    15.000000   True    False   \n3  True        0  30.50000  2.5400  0.065214   137.869200  False    False   \n4  True        0  32.16667  9.7867  0.067051   546.503300   True    False   \n\n   dependents  months  majorcards  active  \n0           3      54           1      12  \n1           3      34           1      13  \n2           4      58           1       5  \n3           0      25           1       7  \n4           2      64           1       5  ",
            "text/html": "<div>\n<style scoped>\n    .dataframe tbody tr th:only-of-type {\n        vertical-align: middle;\n    }\n\n    .dataframe tbody tr th {\n        vertical-align: top;\n    }\n\n    .dataframe thead th {\n        text-align: right;\n    }\n</style>\n<table border=\"1\" class=\"dataframe\">\n  <thead>\n    <tr style=\"text-align: right;\">\n      <th></th>\n      <th>card</th>\n      <th>reports</th>\n      <th>age</th>\n      <th>income</th>\n      <th>share</th>\n      <th>expenditure</th>\n      <th>owner</th>\n      <th>selfemp</th>\n      <th>dependents</th>\n      <th>months</th>\n      <th>majorcards</th>\n      <th>active</th>\n    </tr>\n  </thead>\n  <tbody>\n    <tr>\n      <th>0</th>\n      <td>True</td>\n      <td>0</td>\n      <td>37.66667</td>\n      <td>4.5200</td>\n      <td>0.033270</td>\n      <td>124.983300</td>\n      <td>True</td>\n      <td>False</td>\n      <td>3</td>\n      <td>54</td>\n      <td>1</td>\n      <td>12</td>\n    </tr>\n    <tr>\n      <th>1</th>\n      <td>True</td>\n      <td>0</td>\n      <td>33.25000</td>\n      <td>2.4200</td>\n      <td>0.005217</td>\n      <td>9.854167</td>\n      <td>False</td>\n      <td>False</td>\n      <td>3</td>\n      <td>34</td>\n      <td>1</td>\n      <td>13</td>\n    </tr>\n    <tr>\n      <th>2</th>\n      <td>True</td>\n      <td>0</td>\n      <td>33.66667</td>\n      <td>4.5000</td>\n      <td>0.004156</td>\n      <td>15.000000</td>\n      <td>True</td>\n      <td>False</td>\n      <td>4</td>\n      <td>58</td>\n      <td>1</td>\n      <td>5</td>\n    </tr>\n    <tr>\n      <th>3</th>\n      <td>True</td>\n      <td>0</td>\n      <td>30.50000</td>\n      <td>2.5400</td>\n      <td>0.065214</td>\n      <td>137.869200</td>\n      <td>False</td>\n      <td>False</td>\n      <td>0</td>\n      <td>25</td>\n      <td>1</td>\n      <td>7</td>\n    </tr>\n    <tr>\n      <th>4</th>\n      <td>True</td>\n      <td>0</td>\n      <td>32.16667</td>\n      <td>9.7867</td>\n      <td>0.067051</td>\n      <td>546.503300</td>\n      <td>True</td>\n      <td>False</td>\n      <td>2</td>\n      <td>64</td>\n      <td>1</td>\n      <td>5</td>\n    </tr>\n  </tbody>\n</table>\n</div>"
          },
          "metadata": {}
        }
      ]
    },
    {
      "metadata": {
        "trusted": true,
        "_uuid": "49265f342f9cebbfb877d5ad480f27dc5a6b9401"
      },
      "cell_type": "code",
      "source": "data.shape",
      "execution_count": 6,
      "outputs": [
        {
          "output_type": "execute_result",
          "execution_count": 6,
          "data": {
            "text/plain": "(1319, 12)"
          },
          "metadata": {}
        }
      ]
    },
    {
      "metadata": {
        "trusted": true,
        "_uuid": "3f4df30ebbd8190c975647bda89f261101487ac0"
      },
      "cell_type": "code",
      "source": "from sklearn.pipeline import make_pipeline\nfrom sklearn.ensemble import RandomForestClassifier\nfrom sklearn.model_selection import cross_val_score\n\ny = data.card\nX = data.drop('card', axis=1)",
      "execution_count": 8,
      "outputs": []
    },
    {
      "metadata": {
        "trusted": true,
        "collapsed": true,
        "_uuid": "b0593b585c54287d73335c75b08db3d0a89e3ca4"
      },
      "cell_type": "code",
      "source": "mod_pipeline = make_pipeline(RandomForestClassifier())\nmod_pipeline.fit(X, y)\nscore = cross_val_score?",
      "execution_count": 9,
      "outputs": []
    },
    {
      "metadata": {
        "trusted": true,
        "collapsed": true,
        "_uuid": "2bbec3c88f2c6fb50d566ac2a4a030e79f656704"
      },
      "cell_type": "code",
      "source": "scores = cross_val_score(mod_pipeline, X, y, scoring='accuracy')",
      "execution_count": 12,
      "outputs": []
    },
    {
      "metadata": {
        "trusted": true,
        "_uuid": "3dfb9c7f038d4580ccb6d681ea5b5f4c74936a01"
      },
      "cell_type": "code",
      "source": "scores.mean()",
      "execution_count": 15,
      "outputs": [
        {
          "output_type": "execute_result",
          "execution_count": 15,
          "data": {
            "text/plain": "0.9749792917788361"
          },
          "metadata": {}
        }
      ]
    },
    {
      "metadata": {
        "trusted": true,
        "collapsed": true,
        "_uuid": "fa4bce7fca66421f4d124bd372e791742ae01001"
      },
      "cell_type": "code",
      "source": "expenditure_of_noncardholders = data.expenditure[~data.card]\nexpenditure_of_cardholders = data.expenditure[data.card]",
      "execution_count": 16,
      "outputs": []
    },
    {
      "metadata": {
        "trusted": true,
        "collapsed": true,
        "_uuid": "86c1c7c0f3c2eaa8f5376a918c83d1c62b75869a"
      },
      "cell_type": "code",
      "source": "fraction_of_zero_exp_noncardholders = (expenditure_of_noncardholders == 0).mean()",
      "execution_count": 19,
      "outputs": []
    },
    {
      "metadata": {
        "trusted": true,
        "_uuid": "9dc983d422212c5d3ef2736964c4194a54b910d9"
      },
      "cell_type": "code",
      "source": "fraction_of_zero_exp_noncardholders",
      "execution_count": 20,
      "outputs": [
        {
          "output_type": "execute_result",
          "execution_count": 20,
          "data": {
            "text/plain": "1.0"
          },
          "metadata": {}
        }
      ]
    },
    {
      "metadata": {
        "trusted": true,
        "collapsed": true,
        "_uuid": "28dc63bbc5bbb0386d6d30810d6d1ecde21d1359"
      },
      "cell_type": "code",
      "source": "fraction_of_zero_exp_cardholders = (expenditure_of_cardholders == 0).mean()",
      "execution_count": 21,
      "outputs": []
    },
    {
      "metadata": {
        "trusted": true,
        "_uuid": "d9f02c68218ea51a6866c0745caecee303cdacc7"
      },
      "cell_type": "code",
      "source": "fraction_of_zero_exp_cardholders",
      "execution_count": 22,
      "outputs": [
        {
          "output_type": "execute_result",
          "execution_count": 22,
          "data": {
            "text/plain": "0.020527859237536656"
          },
          "metadata": {}
        }
      ]
    },
    {
      "metadata": {
        "trusted": true,
        "_uuid": "6340ed0982d651a79cefdc370ddad7c7fb61185f"
      },
      "cell_type": "code",
      "source": "data.columns",
      "execution_count": 23,
      "outputs": [
        {
          "output_type": "execute_result",
          "execution_count": 23,
          "data": {
            "text/plain": "Index(['card', 'reports', 'age', 'income', 'share', 'expenditure', 'owner',\n       'selfemp', 'dependents', 'months', 'majorcards', 'active'],\n      dtype='object')"
          },
          "metadata": {}
        }
      ]
    },
    {
      "metadata": {
        "trusted": true,
        "collapsed": true,
        "_uuid": "3bce516398d5910301bbe7f6a4d9088f2f4bb3cc"
      },
      "cell_type": "code",
      "source": "potential_leaks = ['share', 'expenditure', 'majorcards', 'active']",
      "execution_count": 24,
      "outputs": []
    },
    {
      "metadata": {
        "trusted": true,
        "_uuid": "d66d4ca4db78934f76c6ffb46d72e7adfbd5f73c"
      },
      "cell_type": "code",
      "source": "X2 = X.drop(potential_leaks, axis=1)\nscores = cross_val_score(mod_pipeline, X2, y, scoring='accuracy')",
      "execution_count": 26,
      "outputs": []
    },
    {
      "metadata": {
        "trusted": true,
        "_uuid": "81add39de5057b7d34ed715988a8f9a3f331260d"
      },
      "cell_type": "code",
      "source": "print(\"Cross-val accuracy: %f\" %scores.mean())",
      "execution_count": 28,
      "outputs": [
        {
          "output_type": "stream",
          "text": "Cross-val accuracy: 0.809710\n",
          "name": "stdout"
        }
      ]
    },
    {
      "metadata": {
        "trusted": true,
        "collapsed": true,
        "_uuid": "6861db5fcd9398e10bf5b1f932f382b5aadb7d6f"
      },
      "cell_type": "code",
      "source": "",
      "execution_count": null,
      "outputs": []
    }
  ],
  "metadata": {
    "kernelspec": {
      "display_name": "Python 3",
      "language": "python",
      "name": "python3"
    },
    "language_info": {
      "name": "python",
      "version": "3.6.4",
      "mimetype": "text/x-python",
      "codemirror_mode": {
        "name": "ipython",
        "version": 3
      },
      "pygments_lexer": "ipython3",
      "nbconvert_exporter": "python",
      "file_extension": ".py"
    }
  },
  "nbformat": 4,
  "nbformat_minor": 1
}