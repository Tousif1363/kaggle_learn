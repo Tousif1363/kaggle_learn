{
  "cells": [
    {
      "metadata": {
        "_uuid": "8f2839f25d086af736a60e9eeb907d3b93b6e0e5",
        "_cell_guid": "b1076dfc-b9ad-4769-8c92-a6c4dae69d19",
        "trusted": true
      },
      "cell_type": "code",
      "source": "# This Python 3 environment comes with many helpful analytics libraries installed\n# It is defined by the kaggle/python docker image: https://github.com/kaggle/docker-python\n# For example, here's several helpful packages to load in \n\nimport numpy as np # linear algebra\nimport pandas as pd # data processing, CSV file I/O (e.g. pd.read_csv)\n\n# Input data files are available in the \"../input/\" directory.\n# For example, running this (by clicking run or pressing Shift+Enter) will list the files in the input directory\n\nimport os\nprint(os.listdir(\"../input\"))\n\n# Any results you write to the current directory are saved as output.",
      "execution_count": 1,
      "outputs": [
        {
          "output_type": "stream",
          "text": "['melb_data.csv']\n",
          "name": "stdout"
        }
      ]
    },
    {
      "metadata": {
        "_uuid": "d629ff2d2480ee46fbb7e2d37f6b5fab8052498a",
        "collapsed": true,
        "_cell_guid": "79c7e3d0-c299-4dcb-8224-4455121ee9b0",
        "trusted": true
      },
      "cell_type": "code",
      "source": "melb_data = pd.read_csv(\"../input/melb_data.csv\")",
      "execution_count": 2,
      "outputs": []
    },
    {
      "metadata": {
        "_cell_guid": "28f0df5f-6d8b-4960-bc00-c63d552182a6",
        "_uuid": "50d03053d3ce56f144a9f10cf3e6fe2fc405a3b0",
        "trusted": true
      },
      "cell_type": "code",
      "source": "melb_data.head()",
      "execution_count": 3,
      "outputs": [
        {
          "output_type": "execute_result",
          "execution_count": 3,
          "data": {
            "text/plain": "   Unnamed: 0      Suburb           Address  Rooms Type      Price Method  \\\n0           1  Abbotsford      85 Turner St      2    h  1480000.0      S   \n1           2  Abbotsford   25 Bloomburg St      2    h  1035000.0      S   \n2           4  Abbotsford      5 Charles St      3    h  1465000.0     SP   \n3           5  Abbotsford  40 Federation La      3    h   850000.0     PI   \n4           6  Abbotsford       55a Park St      4    h  1600000.0     VB   \n\n  SellerG       Date  Distance      ...        Bathroom  Car  Landsize  \\\n0  Biggin  3/12/2016       2.5      ...             1.0  1.0     202.0   \n1  Biggin  4/02/2016       2.5      ...             1.0  0.0     156.0   \n2  Biggin  4/03/2017       2.5      ...             2.0  0.0     134.0   \n3  Biggin  4/03/2017       2.5      ...             2.0  1.0      94.0   \n4  Nelson  4/06/2016       2.5      ...             1.0  2.0     120.0   \n\n   BuildingArea  YearBuilt  CouncilArea  Lattitude Longtitude  \\\n0           NaN        NaN        Yarra   -37.7996   144.9984   \n1          79.0     1900.0        Yarra   -37.8079   144.9934   \n2         150.0     1900.0        Yarra   -37.8093   144.9944   \n3           NaN        NaN        Yarra   -37.7969   144.9969   \n4         142.0     2014.0        Yarra   -37.8072   144.9941   \n\n              Regionname  Propertycount  \n0  Northern Metropolitan         4019.0  \n1  Northern Metropolitan         4019.0  \n2  Northern Metropolitan         4019.0  \n3  Northern Metropolitan         4019.0  \n4  Northern Metropolitan         4019.0  \n\n[5 rows x 22 columns]",
            "text/html": "<div>\n<style scoped>\n    .dataframe tbody tr th:only-of-type {\n        vertical-align: middle;\n    }\n\n    .dataframe tbody tr th {\n        vertical-align: top;\n    }\n\n    .dataframe thead th {\n        text-align: right;\n    }\n</style>\n<table border=\"1\" class=\"dataframe\">\n  <thead>\n    <tr style=\"text-align: right;\">\n      <th></th>\n      <th>Unnamed: 0</th>\n      <th>Suburb</th>\n      <th>Address</th>\n      <th>Rooms</th>\n      <th>Type</th>\n      <th>Price</th>\n      <th>Method</th>\n      <th>SellerG</th>\n      <th>Date</th>\n      <th>Distance</th>\n      <th>...</th>\n      <th>Bathroom</th>\n      <th>Car</th>\n      <th>Landsize</th>\n      <th>BuildingArea</th>\n      <th>YearBuilt</th>\n      <th>CouncilArea</th>\n      <th>Lattitude</th>\n      <th>Longtitude</th>\n      <th>Regionname</th>\n      <th>Propertycount</th>\n    </tr>\n  </thead>\n  <tbody>\n    <tr>\n      <th>0</th>\n      <td>1</td>\n      <td>Abbotsford</td>\n      <td>85 Turner St</td>\n      <td>2</td>\n      <td>h</td>\n      <td>1480000.0</td>\n      <td>S</td>\n      <td>Biggin</td>\n      <td>3/12/2016</td>\n      <td>2.5</td>\n      <td>...</td>\n      <td>1.0</td>\n      <td>1.0</td>\n      <td>202.0</td>\n      <td>NaN</td>\n      <td>NaN</td>\n      <td>Yarra</td>\n      <td>-37.7996</td>\n      <td>144.9984</td>\n      <td>Northern Metropolitan</td>\n      <td>4019.0</td>\n    </tr>\n    <tr>\n      <th>1</th>\n      <td>2</td>\n      <td>Abbotsford</td>\n      <td>25 Bloomburg St</td>\n      <td>2</td>\n      <td>h</td>\n      <td>1035000.0</td>\n      <td>S</td>\n      <td>Biggin</td>\n      <td>4/02/2016</td>\n      <td>2.5</td>\n      <td>...</td>\n      <td>1.0</td>\n      <td>0.0</td>\n      <td>156.0</td>\n      <td>79.0</td>\n      <td>1900.0</td>\n      <td>Yarra</td>\n      <td>-37.8079</td>\n      <td>144.9934</td>\n      <td>Northern Metropolitan</td>\n      <td>4019.0</td>\n    </tr>\n    <tr>\n      <th>2</th>\n      <td>4</td>\n      <td>Abbotsford</td>\n      <td>5 Charles St</td>\n      <td>3</td>\n      <td>h</td>\n      <td>1465000.0</td>\n      <td>SP</td>\n      <td>Biggin</td>\n      <td>4/03/2017</td>\n      <td>2.5</td>\n      <td>...</td>\n      <td>2.0</td>\n      <td>0.0</td>\n      <td>134.0</td>\n      <td>150.0</td>\n      <td>1900.0</td>\n      <td>Yarra</td>\n      <td>-37.8093</td>\n      <td>144.9944</td>\n      <td>Northern Metropolitan</td>\n      <td>4019.0</td>\n    </tr>\n    <tr>\n      <th>3</th>\n      <td>5</td>\n      <td>Abbotsford</td>\n      <td>40 Federation La</td>\n      <td>3</td>\n      <td>h</td>\n      <td>850000.0</td>\n      <td>PI</td>\n      <td>Biggin</td>\n      <td>4/03/2017</td>\n      <td>2.5</td>\n      <td>...</td>\n      <td>2.0</td>\n      <td>1.0</td>\n      <td>94.0</td>\n      <td>NaN</td>\n      <td>NaN</td>\n      <td>Yarra</td>\n      <td>-37.7969</td>\n      <td>144.9969</td>\n      <td>Northern Metropolitan</td>\n      <td>4019.0</td>\n    </tr>\n    <tr>\n      <th>4</th>\n      <td>6</td>\n      <td>Abbotsford</td>\n      <td>55a Park St</td>\n      <td>4</td>\n      <td>h</td>\n      <td>1600000.0</td>\n      <td>VB</td>\n      <td>Nelson</td>\n      <td>4/06/2016</td>\n      <td>2.5</td>\n      <td>...</td>\n      <td>1.0</td>\n      <td>2.0</td>\n      <td>120.0</td>\n      <td>142.0</td>\n      <td>2014.0</td>\n      <td>Yarra</td>\n      <td>-37.8072</td>\n      <td>144.9941</td>\n      <td>Northern Metropolitan</td>\n      <td>4019.0</td>\n    </tr>\n  </tbody>\n</table>\n<p>5 rows × 22 columns</p>\n</div>"
          },
          "metadata": {}
        }
      ]
    },
    {
      "metadata": {
        "_cell_guid": "70acb2d1-37fd-49f1-945a-cd9da2ee7bb4",
        "collapsed": true,
        "_uuid": "de33a5f31b3377df6f2d22819d888ef8da86cdbf",
        "trusted": true
      },
      "cell_type": "code",
      "source": "cols_to_use = ['Rooms', 'Distance', 'Landsize', 'BuildingArea', 'YearBuilt']\nX = melb_data[cols_to_use]\ny = melb_data.Price",
      "execution_count": 4,
      "outputs": []
    },
    {
      "metadata": {
        "_cell_guid": "e880343e-c6a6-4172-9717-5721bb972b72",
        "collapsed": true,
        "_uuid": "da0a20c0acf7e9811779a495e1a0d99b554a5522",
        "trusted": true
      },
      "cell_type": "code",
      "source": "from sklearn.ensemble import RandomForestRegressor\nfrom sklearn.preprocessing import Imputer\nfrom sklearn.pipeline import make_pipeline\n\nmy_pipeline = make_pipeline?",
      "execution_count": 5,
      "outputs": []
    },
    {
      "metadata": {
        "trusted": true,
        "collapsed": true,
        "_uuid": "1a1d27fe992b9b926a17a9df581ca327ed495ccc"
      },
      "cell_type": "code",
      "source": "my_pipeline = make_pipeline",
      "execution_count": null,
      "outputs": []
    },
    {
      "metadata": {
        "_cell_guid": "8e14c69e-8b82-44b3-8cc0-72d1cfb28b78",
        "collapsed": true,
        "_uuid": "a1fb3fe878ba16d42a510fee49e3ac256043d30d",
        "trusted": true
      },
      "cell_type": "code",
      "source": "my_pipeline = make_pipeline(Imputer(), RandomForestRegressor())",
      "execution_count": 6,
      "outputs": []
    },
    {
      "metadata": {
        "_cell_guid": "6e9c40e5-e6e6-4fd0-9dbf-47ebae0c5d9b",
        "_uuid": "0eabfc63b8c4e66e64c6acf9db973f61113e4877",
        "trusted": true
      },
      "cell_type": "code",
      "source": "my_pipeline",
      "execution_count": 7,
      "outputs": [
        {
          "output_type": "execute_result",
          "execution_count": 7,
          "data": {
            "text/plain": "Pipeline(memory=None,\n     steps=[('imputer', Imputer(axis=0, copy=True, missing_values='NaN', strategy='mean', verbose=0)), ('randomforestregressor', RandomForestRegressor(bootstrap=True, criterion='mse', max_depth=None,\n           max_features='auto', max_leaf_nodes=None,\n           min_impurity_decrease=0.0, min_impurity_s...timators=10, n_jobs=1,\n           oob_score=False, random_state=None, verbose=0, warm_start=False))])"
          },
          "metadata": {}
        }
      ]
    },
    {
      "metadata": {
        "_cell_guid": "c9112972-d718-4127-a911-bd5858ae6951",
        "collapsed": true,
        "_uuid": "4a6535ce4ebd1befd9b92a4a7ac970753cc8e32b",
        "trusted": true
      },
      "cell_type": "code",
      "source": "from sklearn.model_selection import cross_val_score\n\nscores = cross_val_score?",
      "execution_count": 8,
      "outputs": []
    },
    {
      "metadata": {
        "trusted": true,
        "collapsed": true,
        "_uuid": "0bd75c858bbf3408e3d0059d86a32f38e1b6d5c6"
      },
      "cell_type": "code",
      "source": "scores = cross_val_score",
      "execution_count": null,
      "outputs": []
    },
    {
      "metadata": {
        "_cell_guid": "35618687-a5e1-4ec6-b25b-4d809034901f",
        "collapsed": true,
        "_uuid": "7e967c337eb4d901afa9643180650fb3f8861414",
        "trusted": true
      },
      "cell_type": "code",
      "source": "scores = cross_val_score(my_pipeline, X, y, scoring='neg_mean_absolute_error')",
      "execution_count": 9,
      "outputs": []
    },
    {
      "metadata": {
        "_cell_guid": "d0fb52ad-fd91-4c4e-ac61-ad0444df1291",
        "_uuid": "9b6e385a44dd69721afd813de240ddf7bda79fac",
        "trusted": true
      },
      "cell_type": "code",
      "source": "scores",
      "execution_count": 10,
      "outputs": [
        {
          "output_type": "execute_result",
          "execution_count": 10,
          "data": {
            "text/plain": "array([-324576.72763125, -303748.84669606, -278548.22053657])"
          },
          "metadata": {}
        }
      ]
    },
    {
      "metadata": {
        "_cell_guid": "bd65e8ad-853c-4f93-80f1-130a6d2a8ed8",
        "_uuid": "5c2add3559a08ad8a633e7a389bc918f4d2d0e77",
        "trusted": true
      },
      "cell_type": "code",
      "source": "mean_abs_err = scores.mean() * -1",
      "execution_count": 12,
      "outputs": []
    },
    {
      "metadata": {
        "_cell_guid": "0f2828a3-d84e-4ce1-b169-e6a69f3e7b1e",
        "_uuid": "417e1095904f9ff9a36a980ae706bb64caa1084c",
        "trusted": true
      },
      "cell_type": "code",
      "source": "mean_abs_err",
      "execution_count": 13,
      "outputs": [
        {
          "output_type": "execute_result",
          "execution_count": 13,
          "data": {
            "text/plain": "302291.2649546231"
          },
          "metadata": {}
        }
      ]
    },
    {
      "metadata": {
        "_cell_guid": "e8ea97d2-e465-4ab9-9925-a43f07d5f18a",
        "_uuid": "ef22c1e8693d829c266c6ea9230c7343996d26fb"
      },
      "cell_type": "markdown",
      "source": ""
    },
    {
      "metadata": {
        "_cell_guid": "78ac25d1-9506-4b21-9519-fb6870a30255",
        "collapsed": true,
        "_uuid": "c2eec90cc5b1ace400d141c1752a7653d5f97d78",
        "trusted": true
      },
      "cell_type": "code",
      "source": "",
      "execution_count": null,
      "outputs": []
    },
    {
      "metadata": {
        "_cell_guid": "b6f6ec0c-df92-4d0e-80e0-4b22c481f52d",
        "collapsed": true,
        "_uuid": "ff635c21c6795bb63a97564eeec102b41a5791d6",
        "trusted": true
      },
      "cell_type": "code",
      "source": "",
      "execution_count": null,
      "outputs": []
    },
    {
      "metadata": {
        "trusted": true,
        "collapsed": true,
        "_uuid": "0ca71199496ac55d6044b942b972323c27b4a8d8"
      },
      "cell_type": "code",
      "source": "",
      "execution_count": null,
      "outputs": []
    }
  ],
  "metadata": {
    "language_info": {
      "name": "python",
      "version": "3.6.4",
      "mimetype": "text/x-python",
      "codemirror_mode": {
        "name": "ipython",
        "version": 3
      },
      "pygments_lexer": "ipython3",
      "nbconvert_exporter": "python",
      "file_extension": ".py"
    },
    "kernelspec": {
      "display_name": "Python 3",
      "language": "python",
      "name": "python3"
    }
  },
  "nbformat": 4,
  "nbformat_minor": 1
}